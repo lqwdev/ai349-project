{
 "cells": [
  {
   "cell_type": "code",
   "execution_count": 1,
   "id": "bedec9f1",
   "metadata": {},
   "outputs": [],
   "source": [
    "from bs4 import BeautifulSoup\n",
    "import requests\n",
    "import re\n",
    "import reuters\n",
    "from db import ReutersCompanyNewsDownloaded\n",
    "import numpy as np"
   ]
  },
  {
   "cell_type": "code",
   "execution_count": 32,
   "id": "fc3c190e",
   "metadata": {},
   "outputs": [],
   "source": [
    "def get_topic(url):\n",
    "    spliturl = url.split('/')[3:5]\n",
    "    return spliturl[1] if spliturl[0] == '' else spliturl[0]"
   ]
  },
  {
   "cell_type": "code",
   "execution_count": 2,
   "id": "11656bec",
   "metadata": {},
   "outputs": [],
   "source": [
    "interested = ['MSFT', 'AAPL', 'AMZN', 'TSLA', 'GOOG', 'FB', 'NVDA', 'NFLX', 'INTC']"
   ]
  },
  {
   "cell_type": "code",
   "execution_count": 3,
   "id": "25b128f9",
   "metadata": {},
   "outputs": [],
   "source": [
    "ticker = 'AAPL'"
   ]
  },
  {
   "cell_type": "code",
   "execution_count": 4,
   "id": "f464114f",
   "metadata": {},
   "outputs": [],
   "source": [
    "db = ReutersCompanyNewsDownloaded()"
   ]
  },
  {
   "cell_type": "code",
   "execution_count": 12,
   "id": "7168ffa2",
   "metadata": {},
   "outputs": [
    {
     "name": "stdout",
     "output_type": "stream",
     "text": [
      "Retrieving news for ticker AAPL ...... Maybe create table for ticker AAPL ...... [done]\n"
     ]
    },
    {
     "data": {
      "text/plain": [
       "1727"
      ]
     },
     "execution_count": 12,
     "metadata": {},
     "output_type": "execute_result"
    }
   ],
   "source": [
    "downloaded = db.downloaded_urls(ticker)\n",
    "len(downloaded)"
   ]
  },
  {
   "cell_type": "code",
   "execution_count": 29,
   "id": "1e40bb9c",
   "metadata": {},
   "outputs": [
    {
     "data": {
      "text/plain": [
       "1457"
      ]
     },
     "execution_count": 29,
     "metadata": {},
     "output_type": "execute_result"
    }
   ],
   "source": [
    "articles = [url for url in downloaded if get_topic(url) == 'article']\n",
    "len(articles)"
   ]
  },
  {
   "cell_type": "code",
   "execution_count": 28,
   "id": "a7666367",
   "metadata": {},
   "outputs": [
    {
     "data": {
      "text/plain": [
       "270"
      ]
     },
     "execution_count": 28,
     "metadata": {},
     "output_type": "execute_result"
    }
   ],
   "source": [
    "nonarticles = [url for url in downloaded if get_topic(url) in set([\n",
    "    'business', 'legal', 'lifestyle', 'breakingviews', 'technology', 'world'\n",
    "])]\n",
    "len(nonarticles)"
   ]
  },
  {
   "cell_type": "code",
   "execution_count": 34,
   "id": "220a6145",
   "metadata": {},
   "outputs": [
    {
     "name": "stdout",
     "output_type": "stream",
     "text": [
      "Retrieving content for https://www.reuters.com/article/aac-tech-results/apple-supplier-aac-tech-q3-profit-dives-29-pct-idUSL4N1XH3GG ...... [done]\n"
     ]
    }
   ],
   "source": [
    "url, origin_url, contents = db.downloaded_article(ticker, articles[0])"
   ]
  },
  {
   "cell_type": "code",
   "execution_count": 36,
   "id": "17e299bc",
   "metadata": {},
   "outputs": [],
   "source": [
    "parsed = BeautifulSoup(contents, 'html.parser')"
   ]
  },
  {
   "cell_type": "code",
   "execution_count": 37,
   "id": "560eedbe",
   "metadata": {},
   "outputs": [
    {
     "data": {
      "text/plain": [
       "'Apple supplier AAC Tech Q3 profit dives 29 pct'"
      ]
     },
     "execution_count": 37,
     "metadata": {},
     "output_type": "execute_result"
    }
   ],
   "source": [
    "title = parsed.find('h1').text\n",
    "title"
   ]
  },
  {
   "cell_type": "code",
   "execution_count": 38,
   "id": "d16272a4",
   "metadata": {},
   "outputs": [
    {
     "data": {
      "text/plain": [
       "'November 7, 2018 10:40 PM'"
      ]
     },
     "execution_count": 38,
     "metadata": {},
     "output_type": "execute_result"
    }
   ],
   "source": [
    "date_regex = re.compile('.*ArticleHeader-date.*')\n",
    "' '.join([t.text for t in parsed.find('div', {'class': date_regex}).find_all('time')[:2]])"
   ]
  },
  {
   "cell_type": "code",
   "execution_count": 39,
   "id": "3b603cbb",
   "metadata": {},
   "outputs": [
    {
     "name": "stdout",
     "output_type": "stream",
     "text": [
      "By Sijia Jiang\n",
      "2 Min Read\n",
      "HONG KONG, Nov 8 (Reuters) - AAC Technologies Holdings Inc , an acoustic components supplier to Apple Inc , on Thursday reported a drop of 28.7 percent to 973 million yuan ($140.38 million) in quarterly net profit, dented by lacklustre iPhone sales volume growth.\n",
      "AAC Technologies, which supplies acoustic and haptic components for Apple products such as the iPhone, said revenue in the July-September quarter dropped 8.5 percent to 4.87 billion yuan, compared with consensus estimate of 5.7 billion yuan.\n",
      "The company, which is estimated by research and brokerage firm Sanford Bernstein to derive half of its revenue from Apple, saw its stock plunge 57 percent this year as trade war friction between China and the United States intensified.\n",
      "Apple’s iPhone shipment unit in the September quarter remained almost flat from previous year at 46.9 million units, even though total revenue jumped 20 percent due to higher product prices.\n",
      "An appreciation of the Chinese yuan and a weak product upgrade cycle resulted in a 4.2 percentage points decrease in gross profit margin for the first nine months of the year, AAC said.\n",
      "($1 = 6.9311 Chinese yuan)\n",
      "Reporting by Sijia Jiang, Editing by Sherry Jacob-Phillips\n",
      "Our Standards: The Thomson Reuters Trust Principles.\n"
     ]
    }
   ],
   "source": [
    "regex = re.compile('.*ArticleBodyWrapper.*')\n",
    "content = \"\\n\".join([p.text for p in parsed.find('div', {'class': regex}).find_all('p')])\n",
    "print(content)"
   ]
  },
  {
   "cell_type": "code",
   "execution_count": null,
   "id": "4a74ffbd",
   "metadata": {},
   "outputs": [],
   "source": []
  }
 ],
 "metadata": {
  "kernelspec": {
   "display_name": "Python 3 (ipykernel)",
   "language": "python",
   "name": "python3"
  },
  "language_info": {
   "codemirror_mode": {
    "name": "ipython",
    "version": 3
   },
   "file_extension": ".py",
   "mimetype": "text/x-python",
   "name": "python",
   "nbconvert_exporter": "python",
   "pygments_lexer": "ipython3",
   "version": "3.9.7"
  }
 },
 "nbformat": 4,
 "nbformat_minor": 5
}
