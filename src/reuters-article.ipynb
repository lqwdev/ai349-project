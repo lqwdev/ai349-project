{
 "cells": [
  {
   "cell_type": "code",
   "execution_count": 19,
   "id": "bedec9f1",
   "metadata": {},
   "outputs": [],
   "source": [
    "from bs4 import BeautifulSoup\n",
    "import requests\n",
    "import re"
   ]
  },
  {
   "cell_type": "code",
   "execution_count": null,
   "id": "b2b9464c",
   "metadata": {},
   "outputs": [],
   "source": []
  },
  {
   "cell_type": "code",
   "execution_count": 13,
   "id": "0d07718e",
   "metadata": {},
   "outputs": [],
   "source": [
    "fetched = requests.get(url)\n",
    "parsed = BeautifulSoup(fetched.text, 'html.parser')"
   ]
  },
  {
   "cell_type": "code",
   "execution_count": 20,
   "id": "937c7428",
   "metadata": {},
   "outputs": [
    {
     "data": {
      "text/plain": [
       "[<span class=\"DateLine__date___12trWy\">June 1, 2021</span>,\n",
       " <span class=\"DateLine__date___12trWy\">1:59 PM UTC</span>,\n",
       " <span class=\"DateLine__date___12trWy\">Last Updated  ago</span>]"
      ]
     },
     "execution_count": 20,
     "metadata": {},
     "output_type": "execute_result"
    }
   ],
   "source": [
    "regex = re.compile('.*DateLine__date.*')\n",
    "date = parsed.find_all('span', {\"class\": regex})\n",
    "date"
   ]
  },
  {
   "cell_type": "code",
   "execution_count": null,
   "id": "0f94407b",
   "metadata": {},
   "outputs": [],
   "source": []
  }
 ],
 "metadata": {
  "kernelspec": {
   "display_name": "Python 3",
   "language": "python",
   "name": "python3"
  },
  "language_info": {
   "codemirror_mode": {
    "name": "ipython",
    "version": 3
   },
   "file_extension": ".py",
   "mimetype": "text/x-python",
   "name": "python",
   "nbconvert_exporter": "python",
   "pygments_lexer": "ipython3",
   "version": "3.8.8"
  }
 },
 "nbformat": 4,
 "nbformat_minor": 5
}
